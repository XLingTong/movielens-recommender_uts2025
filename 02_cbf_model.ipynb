{
 "cells": [
  {
   "cell_type": "markdown",
   "id": "2d1c0954",
   "metadata": {},
   "source": [
    "# Notebook 02: Content-Based Filtering using TF-IDF on Genres\n",
    "This notebook builds a content-based recommender using TF-IDF vectors of movie genres."
   ]
  },
  {
   "cell_type": "code",
   "execution_count": null,
   "id": "91cda208",
   "metadata": {},
   "outputs": [],
   "source": [
    "import pandas as pd\n",
    "import numpy as np\n",
    "from sklearn.feature_extraction.text import TfidfVectorizer\n",
    "from sklearn.metrics.pairwise import cosine_similarity\n",
    "import joblib"
   ]
  },
  {
   "cell_type": "markdown",
   "id": "cbd942c3",
   "metadata": {},
   "source": [
    "## Load Item and Ratings Data"
   ]
  },
  {
   "cell_type": "code",
   "execution_count": null,
   "id": "cfb165ae",
   "metadata": {},
   "outputs": [],
   "source": [
    "# Load movie item data and user ratings\n",
    "item_df = pd.read_csv(\"u_item.csv\", encoding=\"latin-1\")\n",
    "ratings_df = pd.read_csv(\"u_data.csv\", sep=\",\", header=0)\n",
    "ratings_df[\"userID\"] = ratings_df[\"user_id\"].astype(int)\n",
    "ratings_df[\"itemID\"] = ratings_df[\"item_id\"].astype(int)\n",
    "ratings_df[\"rating\"] = ratings_df[\"rating\"].astype(int)\n",
    "ratings_df = ratings_df[[\"userID\", \"itemID\", \"rating\"]]"
   ]
  },
  {
   "cell_type": "markdown",
   "id": "8449ef03",
   "metadata": {},
   "source": [
    "## Prepare Genre Strings"
   ]
  },
  {
   "cell_type": "code",
   "execution_count": null,
   "id": "57ec0b24",
   "metadata": {},
   "outputs": [],
   "source": [
    "# Extract genre columns\n",
    "genre_cols = item_df.columns[5:]\n",
    "item_df[\"genres\"] = item_df[genre_cols].apply(\n",
    "    lambda row: \" \".join([genre for genre, val in zip(genre_cols, row) if val == 1]),\n",
    "    axis=1\n",
    ")"
   ]
  },
  {
   "cell_type": "markdown",
   "id": "4aff9a6d",
   "metadata": {},
   "source": [
    "## Generate TF-IDF Matrix for Items"
   ]
  },
  {
   "cell_type": "code",
   "execution_count": null,
   "id": "003bf9b4",
   "metadata": {},
   "outputs": [],
   "source": [
    "tfidf = TfidfVectorizer()\n",
    "item_profiles = tfidf.fit_transform(item_df[\"genres\"])\n",
    "joblib.dump(item_profiles, \"models/tfidf_item_profiles.npz\")\n",
    "print(\"TF-IDF item profiles saved.\")"
   ]
  },
  {
   "cell_type": "markdown",
   "id": "4799f812",
   "metadata": {},
   "source": [
    "## Build User Profiles"
   ]
  },
  {
   "cell_type": "code",
   "execution_count": null,
   "id": "84b70b3e",
   "metadata": {},
   "outputs": [],
   "source": [
    "# Build user profiles based on liked items (rating >= 4)\n",
    "user_profiles = {}\n",
    "for user_id in ratings_df[\"userID\"].unique():\n",
    "    liked_items = ratings_df[(ratings_df[\"userID\"] == user_id) & (ratings_df[\"rating\"] >= 4)][\"itemID\"]\n",
    "    liked_indices = [i - 1 for i in liked_items if i - 1 < item_profiles.shape[0]]\n",
    "    if liked_indices:\n",
    "        liked_matrix = item_profiles[liked_indices]\n",
    "        user_profiles[user_id] = np.asarray(liked_matrix.mean(axis=0)).reshape(1, -1)\n",
    "\n",
    "joblib.dump(user_profiles, \"models/user_profiles_cbf.pkl\")\n",
    "print(\"User profiles saved.\")"
   ]
  },
  {
   "cell_type": "markdown",
   "id": "aba7b961",
   "metadata": {},
   "source": [
    "## Predict Ratings using CBF"
   ]
  },
  {
   "cell_type": "code",
   "execution_count": null,
   "id": "a9a2f483",
   "metadata": {},
   "outputs": [],
   "source": [
    "# Predict for all user-item pairs in the original test set\n",
    "from sklearn.model_selection import train_test_split\n",
    "train_df, test_df = train_test_split(ratings_df, test_size=0.2, random_state=42)\n",
    "\n",
    "cbf_preds = []\n",
    "for _, row in test_df.iterrows():\n",
    "    uid, iid = row[\"userID\"], row[\"itemID\"]\n",
    "    if uid in user_profiles and iid - 1 < item_profiles.shape[0]:\n",
    "        score = cosine_similarity(user_profiles[uid], item_profiles[iid - 1])[0, 0]\n",
    "        cbf_preds.append({\"userID\": uid, \"itemID\": iid, \"cbf_pred\": round(score * 5, 4)})\n",
    "\n",
    "cbf_df = pd.DataFrame(cbf_preds)\n",
    "cbf_df.to_csv(\"models/cbf_predictions.csv\", index=False)\n",
    "print(\"Saved CBF predictions to models/cbf_predictions.csv\")"
   ]
  }
 ],
 "metadata": {},
 "nbformat": 4,
 "nbformat_minor": 5
}
