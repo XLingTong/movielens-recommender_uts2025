{
  "cells": [
    {
      "cell_type": "markdown",
      "metadata": {
        "id": "view-in-github",
        "colab_type": "text"
      },
      "source": [
        "<a href=\"https://colab.research.google.com/github/XLingTong/movielens-recommender_uts2025/blob/main/02_cbf_model.ipynb\" target=\"_parent\"><img src=\"https://colab.research.google.com/assets/colab-badge.svg\" alt=\"Open In Colab\"/></a>"
      ]
    },
    {
      "cell_type": "markdown",
      "id": "2d1c0954",
      "metadata": {
        "id": "2d1c0954"
      },
      "source": [
        "# Notebook 02: Content-Based Filtering using TF-IDF on Genres\n",
        "This notebook builds a content-based recommender using TF-IDF vectors of movie genres."
      ]
    },
    {
      "cell_type": "code",
      "execution_count": 2,
      "id": "91cda208",
      "metadata": {
        "id": "91cda208"
      },
      "outputs": [],
      "source": [
        "import pandas as pd\n",
        "import numpy as np\n",
        "from sklearn.feature_extraction.text import TfidfVectorizer\n",
        "from sklearn.metrics.pairwise import cosine_similarity\n",
        "import joblib"
      ]
    },
    {
      "cell_type": "markdown",
      "id": "cbd942c3",
      "metadata": {
        "id": "cbd942c3"
      },
      "source": [
        "## Load Item and Ratings Data"
      ]
    },
    {
      "cell_type": "code",
      "execution_count": 4,
      "id": "cfb165ae",
      "metadata": {
        "id": "cfb165ae"
      },
      "outputs": [],
      "source": [
        "# Load movie item data and user ratings\n",
        "item_df = pd.read_csv(\"https://raw.githubusercontent.com/XLingTong/movielens-recommender_uts2025/refs/heads/main/u_item.csv\", encoding=\"latin-1\")\n",
        "ratings_df = pd.read_csv(\"https://raw.githubusercontent.com/XLingTong/movielens-recommender_uts2025/refs/heads/main/u_data.csv\", sep=\",\", header=0)\n",
        "ratings_df[\"userID\"] = ratings_df[\"userID\"].astype(int)\n",
        "ratings_df[\"itemID\"] = ratings_df[\"itemID\"].astype(int)\n",
        "ratings_df[\"rating\"] = ratings_df[\"rating\"].astype(int)\n",
        "ratings_df = ratings_df[[\"userID\", \"itemID\", \"rating\"]]"
      ]
    },
    {
      "cell_type": "markdown",
      "id": "8449ef03",
      "metadata": {
        "id": "8449ef03"
      },
      "source": [
        "## Prepare Genre Strings"
      ]
    },
    {
      "cell_type": "code",
      "execution_count": 5,
      "id": "57ec0b24",
      "metadata": {
        "id": "57ec0b24"
      },
      "outputs": [],
      "source": [
        "# Extract genre columns\n",
        "genre_cols = item_df.columns[5:]\n",
        "item_df[\"genres\"] = item_df[genre_cols].apply(\n",
        "    lambda row: \" \".join([genre for genre, val in zip(genre_cols, row) if val == 1]),\n",
        "    axis=1\n",
        ")"
      ]
    },
    {
      "cell_type": "markdown",
      "id": "4aff9a6d",
      "metadata": {
        "id": "4aff9a6d"
      },
      "source": [
        "## Generate TF-IDF Matrix for Items"
      ]
    },
    {
      "cell_type": "code",
      "execution_count": 7,
      "id": "003bf9b4",
      "metadata": {
        "id": "003bf9b4",
        "outputId": "9e5fb4c1-597e-46e0-9186-c2a94893295a",
        "colab": {
          "base_uri": "https://localhost:8080/"
        }
      },
      "outputs": [
        {
          "output_type": "stream",
          "name": "stdout",
          "text": [
            "TF-IDF item profiles saved.\n"
          ]
        }
      ],
      "source": [
        "import os\n",
        "tfidf = TfidfVectorizer()\n",
        "item_profiles = tfidf.fit_transform(item_df[\"genres\"])\n",
        "\n",
        "# Create the 'models' directory if it doesn't exist\n",
        "os.makedirs(\"models\", exist_ok=True)\n",
        "\n",
        "joblib.dump(item_profiles, \"models/tfidf_item_profiles.npz\")\n",
        "print(\"TF-IDF item profiles saved.\")"
      ]
    },
    {
      "cell_type": "markdown",
      "id": "4799f812",
      "metadata": {
        "id": "4799f812"
      },
      "source": [
        "## Build User Profiles"
      ]
    },
    {
      "cell_type": "code",
      "execution_count": 8,
      "id": "84b70b3e",
      "metadata": {
        "id": "84b70b3e",
        "outputId": "3669c5f5-92c3-4be0-a192-92d4db9b3a6b",
        "colab": {
          "base_uri": "https://localhost:8080/"
        }
      },
      "outputs": [
        {
          "output_type": "stream",
          "name": "stdout",
          "text": [
            "User profiles saved.\n"
          ]
        }
      ],
      "source": [
        "# Build user profiles based on liked items (rating >= 4)\n",
        "user_profiles = {}\n",
        "for user_id in ratings_df[\"userID\"].unique():\n",
        "    liked_items = ratings_df[(ratings_df[\"userID\"] == user_id) & (ratings_df[\"rating\"] >= 4)][\"itemID\"]\n",
        "    liked_indices = [i - 1 for i in liked_items if i - 1 < item_profiles.shape[0]]\n",
        "    if liked_indices:\n",
        "        liked_matrix = item_profiles[liked_indices]\n",
        "        user_profiles[user_id] = np.asarray(liked_matrix.mean(axis=0)).reshape(1, -1)\n",
        "\n",
        "joblib.dump(user_profiles, \"models/user_profiles_cbf.pkl\")\n",
        "print(\"User profiles saved.\")"
      ]
    },
    {
      "cell_type": "markdown",
      "id": "aba7b961",
      "metadata": {
        "id": "aba7b961"
      },
      "source": [
        "## Predict Ratings using CBF"
      ]
    },
    {
      "cell_type": "code",
      "execution_count": 9,
      "id": "a9a2f483",
      "metadata": {
        "id": "a9a2f483",
        "outputId": "f656b6f0-2d1a-4412-d7e7-db3548373a40",
        "colab": {
          "base_uri": "https://localhost:8080/"
        }
      },
      "outputs": [
        {
          "output_type": "stream",
          "name": "stdout",
          "text": [
            "Saved CBF predictions to models/cbf_predictions.csv\n"
          ]
        }
      ],
      "source": [
        "# Predict for all user-item pairs in the original test set\n",
        "from sklearn.model_selection import train_test_split\n",
        "train_df, test_df = train_test_split(ratings_df, test_size=0.2, random_state=42)\n",
        "\n",
        "cbf_preds = []\n",
        "for _, row in test_df.iterrows():\n",
        "    uid, iid = row[\"userID\"], row[\"itemID\"]\n",
        "    if uid in user_profiles and iid - 1 < item_profiles.shape[0]:\n",
        "        score = cosine_similarity(user_profiles[uid], item_profiles[iid - 1])[0, 0]\n",
        "        cbf_preds.append({\"userID\": uid, \"itemID\": iid, \"cbf_pred\": round(score * 5, 4)})\n",
        "\n",
        "cbf_df = pd.DataFrame(cbf_preds)\n",
        "cbf_df.to_csv(\"models/cbf_predictions.csv\", index=False)\n",
        "print(\"Saved CBF predictions to models/cbf_predictions.csv\")"
      ]
    }
  ],
  "metadata": {
    "colab": {
      "provenance": [],
      "include_colab_link": true
    },
    "language_info": {
      "name": "python"
    },
    "kernelspec": {
      "name": "python3",
      "display_name": "Python 3"
    }
  },
  "nbformat": 4,
  "nbformat_minor": 5
}