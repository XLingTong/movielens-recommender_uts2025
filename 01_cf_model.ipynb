{
  "cells": [
    {
      "cell_type": "markdown",
      "metadata": {
        "id": "view-in-github",
        "colab_type": "text"
      },
      "source": [
        "<a href=\"https://colab.research.google.com/github/XLingTong/movielens-recommender_uts2025/blob/main/01_cf_model.ipynb\" target=\"_parent\"><img src=\"https://colab.research.google.com/assets/colab-badge.svg\" alt=\"Open In Colab\"/></a>"
      ]
    },
    {
      "cell_type": "markdown",
      "id": "538422d9",
      "metadata": {
        "id": "538422d9"
      },
      "source": [
        "# Notebook 01: Collaborative Filtering using Surprise SVD\n",
        "This notebook trains a collaborative filtering model using the Surprise library to generate rating predictions for the MovieLens 100k dataset."
      ]
    },
    {
      "cell_type": "code",
      "source": [
        "%pip install numpy==1.24.4\n",
        "%pip install --force-reinstall scikit-surprise\n"
      ],
      "metadata": {
        "id": "2MXuO2UfZwmH",
        "outputId": "578392ae-d366-439f-e609-e4086b374e7c",
        "colab": {
          "base_uri": "https://localhost:8080/",
          "height": 739
        }
      },
      "id": "2MXuO2UfZwmH",
      "execution_count": 1,
      "outputs": [
        {
          "output_type": "stream",
          "name": "stdout",
          "text": [
            "Collecting numpy==1.24.4\n",
            "  Using cached numpy-1.24.4-cp311-cp311-manylinux_2_17_x86_64.manylinux2014_x86_64.whl.metadata (5.6 kB)\n",
            "Using cached numpy-1.24.4-cp311-cp311-manylinux_2_17_x86_64.manylinux2014_x86_64.whl (17.3 MB)\n",
            "Installing collected packages: numpy\n",
            "  Attempting uninstall: numpy\n",
            "    Found existing installation: numpy 2.2.5\n",
            "    Uninstalling numpy-2.2.5:\n",
            "      Successfully uninstalled numpy-2.2.5\n",
            "\u001b[31mERROR: pip's dependency resolver does not currently take into account all the packages that are installed. This behaviour is the source of the following dependency conflicts.\n",
            "blosc2 3.3.2 requires numpy>=1.26, but you have numpy 1.24.4 which is incompatible.\n",
            "thinc 8.3.6 requires numpy<3.0.0,>=2.0.0, but you have numpy 1.24.4 which is incompatible.\n",
            "treescope 0.1.9 requires numpy>=1.25.2, but you have numpy 1.24.4 which is incompatible.\n",
            "pymc 5.22.0 requires numpy>=1.25.0, but you have numpy 1.24.4 which is incompatible.\n",
            "tensorflow 2.18.0 requires numpy<2.1.0,>=1.26.0, but you have numpy 1.24.4 which is incompatible.\n",
            "jax 0.5.2 requires numpy>=1.25, but you have numpy 1.24.4 which is incompatible.\n",
            "jaxlib 0.5.1 requires numpy>=1.25, but you have numpy 1.24.4 which is incompatible.\u001b[0m\u001b[31m\n",
            "\u001b[0mSuccessfully installed numpy-1.24.4\n"
          ]
        },
        {
          "output_type": "display_data",
          "data": {
            "application/vnd.colab-display-data+json": {
              "pip_warning": {
                "packages": [
                  "numpy"
                ]
              },
              "id": "c3f15ba331d84a08b978eb9d45dcbb6d"
            }
          },
          "metadata": {}
        },
        {
          "output_type": "stream",
          "name": "stdout",
          "text": [
            "Collecting scikit-surprise\n",
            "  Using cached scikit_surprise-1.1.4-cp311-cp311-linux_x86_64.whl\n",
            "Collecting joblib>=1.2.0 (from scikit-surprise)\n",
            "  Using cached joblib-1.5.0-py3-none-any.whl.metadata (5.6 kB)\n",
            "Traceback (most recent call last):\n",
            "  File \"/usr/local/lib/python3.11/dist-packages/pip/_internal/cli/base_command.py\", line 179, in exc_logging_wrapper\n",
            "    status = run_func(*args)\n",
            "             ^^^^^^^^^^^^^^^\n",
            "  File \"/usr/local/lib/python3.11/dist-packages/pip/_internal/cli/req_command.py\", line 67, in wrapper\n",
            "    return func(self, options, args)\n",
            "           ^^^^^^^^^^^^^^^^^^^^^^^^^\n",
            "  File \"/usr/local/lib/python3.11/dist-packages/pip/_internal/commands/install.py\", line 377, in run\n",
            "    requirement_set = resolver.resolve(\n",
            "                      ^^^^^^^^^^^^^^^^^\n",
            "  File \"/usr/local/lib/python3.11/dist-packages/pip/_internal/resolution/resolvelib/resolver.py\", line 95, in resolve\n",
            "    result = self._result = resolver.resolve(\n",
            "                            ^^^^^^^^^^^^^^^^^\n",
            "  File \"/usr/local/lib/python3.11/dist-packages/pip/_vendor/resolvelib/resolvers.py\", line 546, in resolve\n",
            "^C\n"
          ]
        }
      ]
    },
    {
      "cell_type": "code",
      "execution_count": 2,
      "id": "2b4038de",
      "metadata": {
        "id": "2b4038de"
      },
      "outputs": [],
      "source": [
        "# Install Surprise if needed\n",
        "# !pip install scikit-surprise\n",
        "from surprise import Dataset, Reader, SVD\n",
        "from surprise.model_selection import train_test_split\n",
        "from surprise.accuracy import rmse\n",
        "import pandas as pd"
      ]
    },
    {
      "cell_type": "code",
      "source": [],
      "metadata": {
        "id": "dWx66dD8ZjfN"
      },
      "id": "dWx66dD8ZjfN",
      "execution_count": null,
      "outputs": []
    },
    {
      "cell_type": "markdown",
      "id": "d8ac14b9",
      "metadata": {
        "id": "d8ac14b9"
      },
      "source": [
        "## Load and Prepare Data"
      ]
    },
    {
      "cell_type": "code",
      "execution_count": 4,
      "id": "02701ebc",
      "metadata": {
        "id": "02701ebc"
      },
      "outputs": [],
      "source": [
        "# Load u_data.csv using pandas\n",
        "ratings_df = pd.read_csv(\n",
        "    \"https://raw.githubusercontent.com/XLingTong/movielens-recommender_uts2025/refs/heads/main/u_data.csv\",\n",
        "    sep=\",\",\n",
        "    header=0\n",
        ")\n",
        "ratings_df[\"userID\"] = ratings_df[\"userID\"].astype(int)\n",
        "ratings_df[\"itemID\"] = ratings_df[\"itemID\"].astype(int)\n",
        "ratings_df[\"rating\"] = ratings_df[\"rating\"].astype(int)\n",
        "ratings_df = ratings_df[[\"userID\", \"itemID\", \"rating\"]]"
      ]
    },
    {
      "cell_type": "markdown",
      "id": "699a6842",
      "metadata": {
        "id": "699a6842"
      },
      "source": [
        "## Prepare Data for Surprise"
      ]
    },
    {
      "cell_type": "code",
      "execution_count": 5,
      "id": "d34ccf9c",
      "metadata": {
        "id": "d34ccf9c"
      },
      "outputs": [],
      "source": [
        "reader = Reader(rating_scale=(1, 5))\n",
        "data = Dataset.load_from_df(ratings_df[[\"userID\", \"itemID\", \"rating\"]], reader)\n",
        "trainset, testset = train_test_split(data, test_size=0.2, random_state=42)"
      ]
    },
    {
      "cell_type": "markdown",
      "id": "84d676e1",
      "metadata": {
        "id": "84d676e1"
      },
      "source": [
        "## Train SVD Model"
      ]
    },
    {
      "cell_type": "code",
      "execution_count": 6,
      "id": "0394eb59",
      "metadata": {
        "id": "0394eb59",
        "outputId": "920e36a7-1fa3-4639-a573-31e0a19d8240",
        "colab": {
          "base_uri": "https://localhost:8080/"
        }
      },
      "outputs": [
        {
          "output_type": "execute_result",
          "data": {
            "text/plain": [
              "<surprise.prediction_algorithms.matrix_factorization.SVD at 0x7b7af61b6790>"
            ]
          },
          "metadata": {},
          "execution_count": 6
        }
      ],
      "source": [
        "svd_model = SVD(n_factors=50, lr_all=0.005, reg_all=0.02, n_epochs=20)\n",
        "svd_model.fit(trainset)"
      ]
    },
    {
      "cell_type": "markdown",
      "id": "a1212fd6",
      "metadata": {
        "id": "a1212fd6"
      },
      "source": [
        "## Evaluate RMSE on Test Set"
      ]
    },
    {
      "cell_type": "code",
      "execution_count": 7,
      "id": "dfbc51f4",
      "metadata": {
        "id": "dfbc51f4",
        "outputId": "d5a8573c-e359-442a-bcc3-fecb30b2555a",
        "colab": {
          "base_uri": "https://localhost:8080/"
        }
      },
      "outputs": [
        {
          "output_type": "stream",
          "name": "stdout",
          "text": [
            "RMSE: 0.9345\n"
          ]
        },
        {
          "output_type": "execute_result",
          "data": {
            "text/plain": [
              "0.9344772684238207"
            ]
          },
          "metadata": {},
          "execution_count": 7
        }
      ],
      "source": [
        "predictions = svd_model.test(testset)\n",
        "rmse(predictions)"
      ]
    },
    {
      "cell_type": "markdown",
      "id": "1dd9cd71",
      "metadata": {
        "id": "1dd9cd71"
      },
      "source": [
        "## Save Predictions for Hybrid Model"
      ]
    },
    {
      "cell_type": "code",
      "execution_count": 10,
      "id": "ebc4ffb6",
      "metadata": {
        "id": "ebc4ffb6",
        "outputId": "99aa4f70-0df3-4b16-9c81-0766d5f7ecfd",
        "colab": {
          "base_uri": "https://localhost:8080/"
        }
      },
      "outputs": [
        {
          "output_type": "stream",
          "name": "stdout",
          "text": [
            "Saved CF predictions to models/cf_predictions.csv\n"
          ]
        }
      ],
      "source": [
        "import os\n",
        "\n",
        "# Convert predictions into a DataFrame\n",
        "pred_df = pd.DataFrame([{\n",
        "    \"userID\": int(pred.uid),\n",
        "    \"itemID\": int(pred.iid),\n",
        "    \"cf_pred\": round(pred.est, 4)\n",
        "} for pred in predictions])\n",
        "\n",
        "# Create the 'models' directory if it doesn't exist\n",
        "os.makedirs(\"models\", exist_ok=True)\n",
        "\n",
        "# Save for use in hybrid model\n",
        "pred_df.to_csv(\"models/cf_predictions.csv\", index=False)\n",
        "print(\"Saved CF predictions to models/cf_predictions.csv\")"
      ]
    }
  ],
  "metadata": {
    "colab": {
      "provenance": [],
      "include_colab_link": true
    },
    "language_info": {
      "name": "python"
    },
    "kernelspec": {
      "name": "python3",
      "display_name": "Python 3"
    }
  },
  "nbformat": 4,
  "nbformat_minor": 5
}