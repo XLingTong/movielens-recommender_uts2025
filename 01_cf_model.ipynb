{
 "cells": [
  {
   "cell_type": "markdown",
   "id": "538422d9",
   "metadata": {},
   "source": [
    "# Notebook 01: Collaborative Filtering using Surprise SVD\n",
    "This notebook trains a collaborative filtering model using the Surprise library to generate rating predictions for the MovieLens 100k dataset."
   ]
  },
  {
   "cell_type": "code",
   "execution_count": null,
   "id": "2b4038de",
   "metadata": {},
   "outputs": [],
   "source": [
    "# Install Surprise if needed\n",
    "# !pip install scikit-surprise\n",
    "from surprise import Dataset, Reader, SVD\n",
    "from surprise.model_selection import train_test_split\n",
    "from surprise.accuracy import rmse\n",
    "import pandas as pd"
   ]
  },
  {
   "cell_type": "markdown",
   "id": "d8ac14b9",
   "metadata": {},
   "source": [
    "## Load and Prepare Data"
   ]
  },
  {
   "cell_type": "code",
   "execution_count": null,
   "id": "02701ebc",
   "metadata": {},
   "outputs": [],
   "source": [
    "# Load u_data.csv using pandas\n",
    "ratings_df = pd.read_csv(\"u_data.csv\", sep=\",\", header=0)\n",
    "ratings_df[\"userID\"] = ratings_df[\"user_id\"].astype(int)\n",
    "ratings_df[\"itemID\"] = ratings_df[\"item_id\"].astype(int)\n",
    "ratings_df[\"rating\"] = ratings_df[\"rating\"].astype(int)\n",
    "ratings_df = ratings_df[[\"userID\", \"itemID\", \"rating\"]]"
   ]
  },
  {
   "cell_type": "markdown",
   "id": "699a6842",
   "metadata": {},
   "source": [
    "## Prepare Data for Surprise"
   ]
  },
  {
   "cell_type": "code",
   "execution_count": null,
   "id": "d34ccf9c",
   "metadata": {},
   "outputs": [],
   "source": [
    "reader = Reader(rating_scale=(1, 5))\n",
    "data = Dataset.load_from_df(ratings_df[[\"userID\", \"itemID\", \"rating\"]], reader)\n",
    "trainset, testset = train_test_split(data, test_size=0.2, random_state=42)"
   ]
  },
  {
   "cell_type": "markdown",
   "id": "84d676e1",
   "metadata": {},
   "source": [
    "## Train SVD Model"
   ]
  },
  {
   "cell_type": "code",
   "execution_count": null,
   "id": "0394eb59",
   "metadata": {},
   "outputs": [],
   "source": [
    "svd_model = SVD(n_factors=50, lr_all=0.005, reg_all=0.02, n_epochs=20)\n",
    "svd_model.fit(trainset)"
   ]
  },
  {
   "cell_type": "markdown",
   "id": "a1212fd6",
   "metadata": {},
   "source": [
    "## Evaluate RMSE on Test Set"
   ]
  },
  {
   "cell_type": "code",
   "execution_count": null,
   "id": "dfbc51f4",
   "metadata": {},
   "outputs": [],
   "source": [
    "predictions = svd_model.test(testset)\n",
    "rmse(predictions)"
   ]
  },
  {
   "cell_type": "markdown",
   "id": "1dd9cd71",
   "metadata": {},
   "source": [
    "## Save Predictions for Hybrid Model"
   ]
  },
  {
   "cell_type": "code",
   "execution_count": null,
   "id": "ebc4ffb6",
   "metadata": {},
   "outputs": [],
   "source": [
    "# Convert predictions into a DataFrame\n",
    "pred_df = pd.DataFrame([{\n",
    "    \"userID\": int(pred.uid),\n",
    "    \"itemID\": int(pred.iid),\n",
    "    \"cf_pred\": round(pred.est, 4)\n",
    "} for pred in predictions])\n",
    "\n",
    "# Save for use in hybrid model\n",
    "pred_df.to_csv(\"models/cf_predictions.csv\", index=False)\n",
    "print(\"Saved CF predictions to models/cf_predictions.csv\")"
   ]
  }
 ],
 "metadata": {},
 "nbformat": 4,
 "nbformat_minor": 5
}
