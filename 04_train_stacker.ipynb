{
 "cells": [
  {
   "cell_type": "markdown",
   "id": "40623faa",
   "metadata": {},
   "source": [
    "# Notebook 04: Training the Stacked Hybrid Meta-Model\n",
    "This notebook trains a meta-model using the features from collaborative filtering, content-based filtering, and metadata to predict movie ratings."
   ]
  },
  {
   "cell_type": "code",
   "execution_count": null,
   "id": "30542f72",
   "metadata": {},
   "outputs": [],
   "source": [
    "import pandas as pd\n",
    "import numpy as np\n",
    "from sklearn.model_selection import train_test_split\n",
    "from sklearn.linear_model import RidgeCV\n",
    "from sklearn.metrics import mean_squared_error\n",
    "import joblib"
   ]
  },
  {
   "cell_type": "markdown",
   "id": "f4216ee4",
   "metadata": {},
   "source": [
    "## Load Feature Set"
   ]
  },
  {
   "cell_type": "code",
   "execution_count": null,
   "id": "bb6ecf2c",
   "metadata": {},
   "outputs": [],
   "source": [
    "# Load features and labels\n",
    "features_df = pd.read_csv(\"models/meta_features.csv\")\n",
    "\n",
    "# Separate input X and target y\n",
    "X = features_df.drop(columns=[\"rating\"])\n",
    "y = features_df[\"rating\"]"
   ]
  },
  {
   "cell_type": "markdown",
   "id": "e1c26ffb",
   "metadata": {},
   "source": [
    "## Split into Train and Validation Sets"
   ]
  },
  {
   "cell_type": "code",
   "execution_count": null,
   "id": "f1a80fb6",
   "metadata": {},
   "outputs": [],
   "source": [
    "X_train, X_val, y_train, y_val = train_test_split(X, y, test_size=0.2, random_state=42)"
   ]
  },
  {
   "cell_type": "markdown",
   "id": "fa514c1b",
   "metadata": {},
   "source": [
    "## Train Meta-Model (Ridge Regression)"
   ]
  },
  {
   "cell_type": "code",
   "execution_count": null,
   "id": "cffaa879",
   "metadata": {},
   "outputs": [],
   "source": [
    "model = RidgeCV(alphas=[0.1, 1.0, 10.0], cv=5)\n",
    "model.fit(X_train, y_train)\n",
    "joblib.dump(model, \"models/meta_model.pkl\")\n",
    "print(\"Trained and saved meta-model.\")"
   ]
  },
  {
   "cell_type": "markdown",
   "id": "5313de37",
   "metadata": {},
   "source": [
    "## Evaluate Meta-Model"
   ]
  },
  {
   "cell_type": "code",
   "execution_count": null,
   "id": "89ed1184",
   "metadata": {},
   "outputs": [],
   "source": [
    "y_pred = model.predict(X_val)\n",
    "rmse = np.sqrt(mean_squared_error(y_val, y_pred))\n",
    "print(f\"RMSE on validation set: {rmse:.4f}\")"
   ]
  }
 ],
 "metadata": {},
 "nbformat": 4,
 "nbformat_minor": 5
}
