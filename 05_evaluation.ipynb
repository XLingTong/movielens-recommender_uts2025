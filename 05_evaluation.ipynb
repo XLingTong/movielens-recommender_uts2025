{
 "cells": [
  {
   "cell_type": "markdown",
   "id": "d5ecfdaa",
   "metadata": {},
   "source": [
    "# Notebook 05: Evaluation and Visualisation\n",
    "This notebook evaluates and compares the performance of the CF, CBF, and hybrid stacked models using RMSE and Recall@3.5."
   ]
  },
  {
   "cell_type": "code",
   "execution_count": null,
   "id": "4d66a5bb",
   "metadata": {},
   "outputs": [],
   "source": [
    "import pandas as pd\n",
    "import numpy as np\n",
    "from sklearn.metrics import mean_squared_error\n",
    "import matplotlib.pyplot as plt\n",
    "import joblib"
   ]
  },
  {
   "cell_type": "markdown",
   "id": "0f438a8c",
   "metadata": {},
   "source": [
    "## Load Predictions and True Ratings"
   ]
  },
  {
   "cell_type": "code",
   "execution_count": null,
   "id": "7e397980",
   "metadata": {},
   "outputs": [],
   "source": [
    "cf_df = pd.read_csv(\"models/cf_predictions.csv\")\n",
    "cbf_df = pd.read_csv(\"models/cbf_predictions.csv\")\n",
    "meta_df = pd.read_csv(\"models/meta_features.csv\")\n",
    "y_true = meta_df[\"rating\"].values"
   ]
  },
  {
   "cell_type": "markdown",
   "id": "626062fe",
   "metadata": {},
   "source": [
    "## Evaluate RMSE"
   ]
  },
  {
   "cell_type": "code",
   "execution_count": null,
   "id": "b6bcc183",
   "metadata": {},
   "outputs": [],
   "source": [
    "cf_rmse = np.sqrt(mean_squared_error(y_true, cf_df[\"cf_pred\"]))\n",
    "cbf_rmse = np.sqrt(mean_squared_error(y_true, cbf_df[\"cbf_pred\"]))\n",
    "\n",
    "meta_model = joblib.load(\"models/meta_model.pkl\")\n",
    "X_meta = meta_df.drop(columns=[\"rating\"])\n",
    "hybrid_preds = meta_model.predict(X_meta)\n",
    "hybrid_rmse = np.sqrt(mean_squared_error(y_true, hybrid_preds))\n",
    "\n",
    "print(f\"CF RMSE: {cf_rmse:.4f}\")\n",
    "print(f\"CBF RMSE: {cbf_rmse:.4f}\")\n",
    "print(f\"Hybrid RMSE: {hybrid_rmse:.4f}\")"
   ]
  },
  {
   "cell_type": "markdown",
   "id": "45f5289a",
   "metadata": {},
   "source": [
    "## Evaluate Recall@3.5"
   ]
  },
  {
   "cell_type": "code",
   "execution_count": null,
   "id": "9f6e0e13",
   "metadata": {},
   "outputs": [],
   "source": [
    "def recall_at_threshold(y_true, y_pred, threshold=3.5):\n",
    "    y_true_bin = (y_true >= threshold).astype(int)\n",
    "    y_pred_bin = (y_pred >= threshold).astype(int)\n",
    "    tp = ((y_true_bin == 1) & (y_pred_bin == 1)).sum()\n",
    "    fn = ((y_true_bin == 1) & (y_pred_bin == 0)).sum()\n",
    "    return tp / (tp + fn) if (tp + fn) > 0 else 0.0\n",
    "\n",
    "cf_recall = recall_at_threshold(y_true, cf_df[\"cf_pred\"])\n",
    "cbf_recall = recall_at_threshold(y_true, cbf_df[\"cbf_pred\"])\n",
    "hybrid_recall = recall_at_threshold(y_true, hybrid_preds)\n",
    "\n",
    "print(f\"CF Recall@3.5: {cf_recall:.4f}\")\n",
    "print(f\"CBF Recall@3.5: {cbf_recall:.4f}\")\n",
    "print(f\"Hybrid Recall@3.5: {hybrid_recall:.4f}\")"
   ]
  },
  {
   "cell_type": "markdown",
   "id": "1e07fe33",
   "metadata": {},
   "source": [
    "## Visualise RMSE and Recall"
   ]
  },
  {
   "cell_type": "code",
   "execution_count": null,
   "id": "c69f2bf1",
   "metadata": {},
   "outputs": [],
   "source": [
    "# Plot RMSE\n",
    "plt.bar([\"CF\", \"CBF\", \"Hybrid\"], [cf_rmse, cbf_rmse, hybrid_rmse])\n",
    "plt.title(\"RMSE Comparison\")\n",
    "plt.ylabel(\"RMSE\")\n",
    "plt.show()\n",
    "\n",
    "# Plot Recall\n",
    "plt.bar([\"CF\", \"CBF\", \"Hybrid\"], [cf_recall, cbf_recall, hybrid_recall])\n",
    "plt.title(\"Recall@3.5 Comparison\")\n",
    "plt.ylabel(\"Recall\")\n",
    "plt.show()"
   ]
  }
 ],
 "metadata": {},
 "nbformat": 4,
 "nbformat_minor": 5
}
