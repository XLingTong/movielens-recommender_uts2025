{
 "cells": [
  {
   "cell_type": "markdown",
   "id": "6935a2b3",
   "metadata": {},
   "source": [
    "# Notebook 03: Feature Engineering for Hybrid Model\n",
    "This notebook merges predictions from CF and CBF, and incorporates user and item metadata to form a feature set for training a hybrid stacked model."
   ]
  },
  {
   "cell_type": "code",
   "execution_count": null,
   "id": "1e9c1658",
   "metadata": {},
   "outputs": [],
   "source": [
    "import pandas as pd\n",
    "import numpy as np\n",
    "import joblib\n",
    "from sklearn.preprocessing import OneHotEncoder"
   ]
  },
  {
   "cell_type": "markdown",
   "id": "403699ef",
   "metadata": {},
   "source": [
    "## Load Predictions from CF and CBF"
   ]
  },
  {
   "cell_type": "code",
   "execution_count": null,
   "id": "e82ccb50",
   "metadata": {},
   "outputs": [],
   "source": [
    "cf_df = pd.read_csv(\"models/cf_predictions.csv\")\n",
    "cbf_df = pd.read_csv(\"models/cbf_predictions.csv\")\n",
    "\n",
    "# Merge on userID and itemID\n",
    "merged_df = pd.merge(cf_df, cbf_df, on=[\"userID\", \"itemID\"], how=\"inner\")"
   ]
  },
  {
   "cell_type": "markdown",
   "id": "363a0112",
   "metadata": {},
   "source": [
    "## Load User and Item Metadata"
   ]
  },
  {
   "cell_type": "code",
   "execution_count": null,
   "id": "310f4dcd",
   "metadata": {},
   "outputs": [],
   "source": [
    "# Load user info\n",
    "user_df = pd.read_csv(\"u_user.csv\", sep=\"|\", names=[\"userID\", \"age\", \"gender\", \"occupation\", \"zip_code\"])\n",
    "\n",
    "# Load item info\n",
    "item_df = pd.read_csv(\"u_item.csv\", encoding=\"latin-1\")\n",
    "genre_cols = item_df.columns[5:]\n",
    "item_df = item_df[[\"movie_id\"] + list(genre_cols)]\n",
    "item_df.rename(columns={\"movie_id\": \"itemID\"}, inplace=True)\n",
    "\n",
    "# Ensure itemID is int for merge\n",
    "item_df[\"itemID\"] = item_df[\"itemID\"].astype(int)\n",
    "user_df[\"userID\"] = user_df[\"userID\"].astype(int)"
   ]
  },
  {
   "cell_type": "markdown",
   "id": "54d4148d",
   "metadata": {},
   "source": [
    "## Merge Metadata with Prediction Data"
   ]
  },
  {
   "cell_type": "code",
   "execution_count": null,
   "id": "a367dd1a",
   "metadata": {},
   "outputs": [],
   "source": [
    "# Merge user and item info\n",
    "df = pd.merge(merged_df, user_df, on=\"userID\", how=\"left\")\n",
    "df = pd.merge(df, item_df, on=\"itemID\", how=\"left\")"
   ]
  },
  {
   "cell_type": "markdown",
   "id": "755a1978",
   "metadata": {},
   "source": [
    "## One-Hot Encode Categorical Features"
   ]
  },
  {
   "cell_type": "code",
   "execution_count": null,
   "id": "f191371e",
   "metadata": {},
   "outputs": [],
   "source": [
    "# One-hot encode gender and occupation\n",
    "categorical_cols = [\"gender\", \"occupation\"]\n",
    "encoder = OneHotEncoder(sparse=False)\n",
    "encoded = encoder.fit_transform(df[categorical_cols])\n",
    "encoded_df = pd.DataFrame(encoded, columns=encoder.get_feature_names_out(categorical_cols))\n",
    "\n",
    "# Combine all features\n",
    "features_df = pd.concat([df[[\"cf_pred\", \"cbf_pred\"]], encoded_df, df[genre_cols].reset_index(drop=True)], axis=1)"
   ]
  },
  {
   "cell_type": "markdown",
   "id": "1b6d6194",
   "metadata": {},
   "source": [
    "## Add True Ratings (Labels)"
   ]
  },
  {
   "cell_type": "code",
   "execution_count": null,
   "id": "c89dcd53",
   "metadata": {},
   "outputs": [],
   "source": [
    "# Load true ratings\n",
    "ratings_df = pd.read_csv(\"u_data.csv\", sep=\",\", header=0)\n",
    "ratings_df[\"userID\"] = ratings_df[\"user_id\"].astype(int)\n",
    "ratings_df[\"itemID\"] = ratings_df[\"item_id\"].astype(int)\n",
    "ratings_df[\"rating\"] = ratings_df[\"rating\"].astype(int)\n",
    "ratings_df = ratings_df[[\"userID\", \"itemID\", \"rating\"]]\n",
    "\n",
    "# Extract 20% test set\n",
    "from sklearn.model_selection import train_test_split\n",
    "_, test_df = train_test_split(ratings_df, test_size=0.2, random_state=42)\n",
    "\n",
    "# Merge to get labels\n",
    "labels_df = pd.merge(df[[\"userID\", \"itemID\"]], test_df, on=[\"userID\", \"itemID\"], how=\"left\")\n",
    "features_df[\"rating\"] = labels_df[\"rating\"]\n",
    "\n",
    "# Save features\n",
    "features_df.to_csv(\"models/meta_features.csv\", index=False)\n",
    "print(\"Saved hybrid feature set to models/meta_features.csv\")"
   ]
  }
 ],
 "metadata": {},
 "nbformat": 4,
 "nbformat_minor": 5
}
